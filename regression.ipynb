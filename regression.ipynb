{
 "cells": [
  {
   "cell_type": "code",
   "execution_count": 1,
   "metadata": {},
   "outputs": [
    {
     "name": "stdout",
     "output_type": "stream",
     "text": [
      "Normalized RMSE =  0.01111152650690003\n",
      "Normalized RMSE2 =  0.01991926643382962\n"
     ]
    }
   ],
   "source": [
    "\n",
    "import numpy as np\n",
    "import pandas as pd\n",
    "from sklearn import preprocessing\n",
    "from sklearn.linear_model import LinearRegression\n",
    "from sklearn.tree import DecisionTreeRegressor\n",
    "from sklearn.metrics import mean_squared_error\n",
    "import lightgbm\n",
    "import warnings\n",
    "warnings.filterwarnings(\"ignore\")\n",
    "\n",
    "# Load data\n",
    "data = pd.read_csv('CausesOfDeath_France_2001-2008.csv')\n",
    "\n",
    "# Preprocessing\n",
    "# replace \":\" characters in Value column with 0 and remove these rows in 4 next line \n",
    "data.Value[data.Value == \":\"] = \"0\"\n",
    "# remove space characters in Value column and convert str to integer\n",
    "data[\"Value\"] = data[\"Value\"].apply(lambda x: int(x.replace(\" \", \"\")))\n",
    "data = data.loc[data[\"Value\"]!=0]\n",
    "\n",
    "# delete columns\n",
    "data = data.drop(\"GEO\", axis=1)\n",
    "data = data.drop(\"UNIT\", axis=1)\n",
    "data = data.drop(\"AGE\", axis=1)\n",
    "data = data.drop(\"Flag and Footnotes\", axis=1)\n",
    "\n",
    "# create features based on feature of ICD10 values\n",
    "data = pd.get_dummies(data=data, drop_first=True)\n",
    "value = data.Value\n",
    "data = data.drop(\"Value\", axis=1)\n",
    "data[\"Value\"] = value\n",
    "\n",
    "# train and test splits\n",
    "x_train = data.iloc[0:889,0:-1] # 2001 to 2007\n",
    "y_train = data.iloc[0:889,-1]\n",
    "x_test = data.iloc[889::, 0:-1]# 2008\n",
    "y_test = data.iloc[889::, -1]\n",
    "\n",
    "# create linear regresion model and predict test labels\n",
    "Model = LinearRegression()\n",
    "Model.fit(x_train, y_train)\n",
    "y_pred = Model.predict(x_test)\n",
    "rmse = np.sqrt(mean_squared_error(y_test,y_pred))\n",
    "print(\"Normalized RMSE = \" ,rmse/(data.Value.max()-data.Value.min()))\n",
    "Model = DecisionTreeRegressor(max_depth=5)\n",
    "Model.fit(x_train, y_train)\n",
    "y_pred = Model.predict(x_test)\n",
    "rmse = np.sqrt(mean_squared_error(y_test,y_pred))\n",
    "print(\"Normalized RMSE2 = \" ,rmse/(data.Value.max()-data.Value.min()))\n",
    "\n"
   ]
  },
  {
   "cell_type": "code",
   "execution_count": null,
   "metadata": {},
   "outputs": [],
   "source": []
  }
 ],
 "metadata": {
  "kernelspec": {
   "display_name": "Python 3",
   "language": "python",
   "name": "python3"
  },
  "language_info": {
   "codemirror_mode": {
    "name": "ipython",
    "version": 3
   },
   "file_extension": ".py",
   "mimetype": "text/x-python",
   "name": "python",
   "nbconvert_exporter": "python",
   "pygments_lexer": "ipython3",
   "version": "3.6.5"
  }
 },
 "nbformat": 4,
 "nbformat_minor": 4
}
