{
 "cells": [
  {
   "cell_type": "code",
   "execution_count": 8,
   "metadata": {},
   "outputs": [
    {
     "name": "stdout",
     "output_type": "stream",
     "text": [
      "---------------------------------------\n",
      "KNeighborsClassifier test Accuracy Rate is: 0.598425\n",
      "---------------------------------------\n",
      "DecisionTreeClassifier test Accuracy Rate is: 0.818898\n",
      "---------------------------------------\n",
      "RandomForestClassifier test Accuracy Rate is: 0.905512\n"
     ]
    }
   ],
   "source": [
    "\n",
    "import numpy as np\n",
    "import pandas as pd\n",
    "from sklearn import preprocessing\n",
    "from sklearn.neighbors import KNeighborsClassifier\n",
    "from sklearn.tree import DecisionTreeClassifier\n",
    "from sklearn.ensemble import RandomForestClassifier\n",
    "from sklearn.metrics import accuracy_score\n",
    "from sklearn.metrics import mean_squared_error\n",
    "import warnings\n",
    "warnings.filterwarnings(\"ignore\")\n",
    "\n",
    "# Load data\n",
    "data = pd.read_csv('CausesOfDeath_France_2001-2008.csv')\n",
    "\n",
    "# Preprocessing\n",
    "# replace \":\" characters in Value column with 0 and remove these rows in 4 next line \n",
    "data.Value[data.Value == \":\"] = \"0\"\n",
    "# remove space characters in Value column and convert str to integer\n",
    "data[\"Value\"] = data[\"Value\"].apply(lambda x: int(x.replace(\" \", \"\")))\n",
    "data = data.loc[data[\"Value\"]!=0]\n",
    "\n",
    "# delete columns\n",
    "data = data.drop(\"GEO\", axis=1)\n",
    "data = data.drop(\"UNIT\", axis=1)\n",
    "data = data.drop(\"AGE\", axis=1)\n",
    "data = data.drop(\"Flag and Footnotes\", axis=1)\n",
    "\n",
    "# create features based on feature of ICD10 values\n",
    "data = pd.get_dummies(data=data, drop_first=True)\n",
    "jensiat = data.SEX_Males\n",
    "data = data.drop(\"SEX_Males\", axis=1)\n",
    "data[\"SEX\"] = jensiat\n",
    "\n",
    "# classify data\n",
    "classifiers = [\n",
    "    KNeighborsClassifier(3),\n",
    "    DecisionTreeClassifier(),\n",
    "    RandomForestClassifier()]\n",
    "\n",
    "# train and test splits\n",
    "x_train = data.iloc[0:889,0:-1] # 2001 to 2007\n",
    "y_train = data.iloc[0:889,-1]\n",
    "x_test = data.iloc[889::, 0:-1]# 2008\n",
    "y_test = data.iloc[889::, -1]\n",
    "\n",
    "# run classifiers\n",
    "for clf in classifiers:\n",
    "    clf.fit(x_train, y_train)\n",
    "    y_pred = clf.predict(x_test)\n",
    "    \n",
    "    # Calculate Accuracy Rate by using accuracy_score()\n",
    "    print('---------------------------------------')\n",
    "    print (clf.__class__.__name__ + \" test Accuracy Rate is: %f\" % accuracy_score(y_test, y_pred))\n",
    "\n"
   ]
  },
  {
   "cell_type": "code",
   "execution_count": null,
   "metadata": {},
   "outputs": [],
   "source": []
  }
 ],
 "metadata": {
  "kernelspec": {
   "display_name": "Python 3",
   "language": "python",
   "name": "python3"
  },
  "language_info": {
   "codemirror_mode": {
    "name": "ipython",
    "version": 3
   },
   "file_extension": ".py",
   "mimetype": "text/x-python",
   "name": "python",
   "nbconvert_exporter": "python",
   "pygments_lexer": "ipython3",
   "version": "3.6.5"
  }
 },
 "nbformat": 4,
 "nbformat_minor": 4
}
